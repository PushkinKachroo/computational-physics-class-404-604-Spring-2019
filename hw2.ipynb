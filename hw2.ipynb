{
 "cells": [
  {
   "cell_type": "code",
   "execution_count": 56,
   "metadata": {},
   "outputs": [
    {
     "name": "stdout",
     "output_type": "stream",
     "text": [
      "0\n",
      "1\n",
      "1\n",
      "2\n",
      "3\n"
     ]
    }
   ],
   "source": [
    "def fib(n):\n",
    "    if n < 2:\n",
    "        return n\n",
    "    else:\n",
    "        return fib(n-1)+fib(n-2)\n",
    "n=5\n",
    "for x in range(n):\n",
    "    print(fib(x))"
   ]
  },
  {
   "cell_type": "code",
   "execution_count": 43,
   "metadata": {},
   "outputs": [
    {
     "name": "stdout",
     "output_type": "stream",
     "text": [
      "0 5e-323 2e+307\n",
      "1 2.5e-323 4e+307\n",
      "2 1e-323 8e+307\n",
      "3 5e-324 1.6e+308\n",
      "4 0.0 inf\n"
     ]
    }
   ],
   "source": [
    "underflow=1e-322\n",
    "overflow=1e307\n",
    "n=5\n",
    "for x in range(n):\n",
    "    underflow=underflow/2\n",
    "    overflow=2*overflow\n",
    "    print(x, underflow, overflow)"
   ]
  },
  {
   "cell_type": "code",
   "execution_count": 15,
   "metadata": {},
   "outputs": [
    {
     "name": "stdout",
     "output_type": "stream",
     "text": [
      "1.5\n",
      "1.25\n",
      "1.125\n",
      "1.0625\n",
      "1.03125\n",
      "1.015625\n",
      "1.0078125\n",
      "1.00390625\n",
      "1.001953125\n",
      "1.0009765625\n",
      "1.00048828125\n",
      "1.000244140625\n",
      "1.0001220703125\n",
      "1.00006103515625\n",
      "1.000030517578125\n",
      "1.0000152587890625\n",
      "1.0000076293945312\n",
      "1.0000038146972656\n",
      "1.0000019073486328\n",
      "1.0000009536743164\n",
      "1.0000004768371582\n",
      "1.000000238418579\n",
      "1.0000001192092896\n",
      "1.0000000596046448\n",
      "1.0000000298023224\n",
      "1.0000000149011612\n",
      "1.0000000074505806\n",
      "1.0000000037252903\n",
      "1.0000000018626451\n",
      "1.0000000009313226\n",
      "1.0000000004656613\n",
      "1.0000000002328306\n",
      "1.0000000001164153\n",
      "1.0000000000582077\n",
      "1.0000000000291038\n",
      "1.000000000014552\n",
      "1.000000000007276\n",
      "1.000000000003638\n",
      "1.000000000001819\n",
      "1.0000000000009095\n",
      "1.0000000000004547\n",
      "1.0000000000002274\n",
      "1.0000000000001137\n",
      "1.0000000000000568\n",
      "1.0000000000000284\n",
      "1.0000000000000142\n",
      "1.000000000000007\n",
      "1.0000000000000036\n",
      "1.0000000000000018\n",
      "1.0000000000000009\n",
      "1.0000000000000004\n",
      "1.0000000000000002\n",
      "1.0\n",
      "1.0\n",
      "1.0\n",
      "1.0\n",
      "1.0\n",
      "1.0\n",
      "1.0\n",
      "1.0\n",
      "1.0\n",
      "1.0\n",
      "1.0\n",
      "1.0\n",
      "1.0\n",
      "1.0\n",
      "1.0\n",
      "1.0\n",
      "1.0\n",
      "1.0\n",
      "1.0\n",
      "1.0\n",
      "1.0\n",
      "1.0\n",
      "1.0\n",
      "1.0\n",
      "1.0\n",
      "1.0\n",
      "1.0\n",
      "1.0\n",
      "1.0\n",
      "1.0\n",
      "1.0\n",
      "1.0\n",
      "1.0\n",
      "1.0\n",
      "1.0\n",
      "1.0\n",
      "1.0\n",
      "1.0\n",
      "1.0\n",
      "1.0\n",
      "1.0\n",
      "1.0\n",
      "1.0\n",
      "1.0\n",
      "1.0\n",
      "1.0\n",
      "1.0\n",
      "1.0\n"
     ]
    }
   ],
   "source": [
    "pre=1.0\n",
    "n=100\n",
    "for x in range(n):\n",
    "    pre=pre/2\n",
    "    print(pre+1.0)"
   ]
  },
  {
   "cell_type": "code",
   "execution_count": 22,
   "metadata": {},
   "outputs": [
    {
     "data": {
      "image/png": "[encoded data removed]",
      "text/plain": [
       "<matplotlib.figure.Figure at 0x7f0130ab8c88>"
      ]
     },
     "metadata": {},
     "output_type": "display_data"
    }
   ],
   "source": [
    "import matplotlib.pyplot as plt \n",
    "def fibM(n, table): \n",
    "    if n == 0 or n==1:\n",
    "        table[n]=n\n",
    "    # if the value has not been calculated, calculate it \n",
    "    if table[n] is None:\n",
    "        # Please finish this line\n",
    "        table[n]=fibM(n-1, table)+fibM(n-2, table)\n",
    "    return table[n]\n",
    "n=10\n",
    "table = [None]*(n+1)\n",
    "y=[]\n",
    "for x in range(2,n):\n",
    "    table = [None]*(x+1)\n",
    "    y.append(fibM(x,table)/fibM(x-1,table))\n",
    "x = list(range(2, n))\n",
    "# plotting\n",
    "plt.plot(x, y, marker='o') \n",
    "# x axis \n",
    "plt.ylabel('fib(n)/fib(n-1)') \n",
    "# y axis \n",
    "plt.xlabel('n value') \n",
    "plt.title('Fib Ratio vs n') \n",
    "xmarks = range(2, n, 1)\n",
    "plt.xticks(xmarks)\n",
    "# show plot \n",
    "plt.show()"
   ]
  },
  {
   "cell_type": "code",
   "execution_count": 12,
   "metadata": {},
   "outputs": [
    {
     "name": "stdout",
     "output_type": "stream",
     "text": [
      "[-13.457478503090742, -12.946652879324752, -11.81525076783365, -9.28565862870035, -6.024797475963832]\n",
      "[0, 1, 2, 3, 4]\n"
     ]
    },
    {
     "data": {
      "image/png": "[encoded data removed]",
      "text/plain": [
       "<matplotlib.figure.Figure at 0x7f242088e2b0>"
      ]
     },
     "metadata": {},
     "output_type": "display_data"
    }
   ],
   "source": [
    "import time\n",
    "import math\n",
    "import matplotlib.pyplot as plt \n",
    "def fibIt(n):\n",
    "    if n < 2:\n",
    "        return n\n",
    "    else:\n",
    "        m=n+1\n",
    "        it0=0\n",
    "        it1=1\n",
    "        for x in range(2,m):\n",
    "            it2=it0+it1\n",
    "            it0=it1\n",
    "            it1=it2\n",
    "        return it2\n",
    "n=5\n",
    "y=[]\n",
    "for x in range(n):\n",
    "    start = time.time()\n",
    "    fibIt(10**x)\n",
    "    end = time.time()\n",
    "    y.append(end - start)\n",
    "x = list(range(n))\n",
    "# Open a file\n",
    "fo = open(\"fibIt.txt\", \"w\")\n",
    "for item in y:\n",
    "    fo.write(\"%s\\n\" % item)\n",
    "#fo.write(str(y) + \"\\n\")\n",
    "# Close open file\n",
    "fo.close()\n",
    "y=[]\n",
    "# Open a file\n",
    "fo = open(\"fibIt.txt\", \"r\")\n",
    "for line in fo:\n",
    "    # remove linebreak which is the last character of the string\n",
    "    currentPlace = line[:-1]\n",
    "    # add item to the list\n",
    "    y.append(math.log(float(currentPlace)))\n",
    "# Close open file\n",
    "fo.close()\n",
    "print(y)\n",
    "x = list(range(len(y)))\n",
    "print(x)\n",
    "# plotting\n",
    "plt.plot(x, y, marker='o') \n",
    "# x axis \n",
    "plt.ylabel('log(time)') \n",
    "# y axis \n",
    "plt.xlabel('log(n)') \n",
    "plt.title('Time vs n in Log for Iteration') \n",
    "xmarks = range(0, n, 1)\n",
    "plt.xticks(xmarks)\n",
    "# show plot \n",
    "plt.show()"
   ]
  },
  {
   "cell_type": "code",
   "execution_count": 33,
   "metadata": {
    "scrolled": true
   },
   "outputs": [
    {
     "name": "stdout",
     "output_type": "stream",
     "text": [
      "[-12.68428861485726, -12.358866214422632, -10.77190115784059, -8.23982903961016, -5.116823623712731]\n",
      "[0, 1, 2, 3, 4]\n"
     ]
    },
    {
     "data": {
      "image/png": "[encoded data removed]",
      "text/plain": [
       "<matplotlib.figure.Figure at 0x7f013038f710>"
      ]
     },
     "metadata": {},
     "output_type": "display_data"
    }
   ],
   "source": [
    "import time\n",
    "import math\n",
    "import matplotlib.pyplot as plt \n",
    "def fibTab(n):\n",
    "    if n == 0:\n",
    "        return 0\n",
    "    else:\n",
    "        table=[0]*(n+1)\n",
    "        table[1] = 1\n",
    "        if n > 1:\n",
    "            for i in range(2,n+1):\n",
    "                # Please finish this line\n",
    "                table[i]=table[i-1]+table[i-2]\n",
    "        return table[n]\n",
    "n=5\n",
    "y=[]\n",
    "for x in range(n):\n",
    "    start = time.time()\n",
    "    fibTab(10**x)\n",
    "    end = time.time()\n",
    "    y.append(end - start)\n",
    "x = list(range(n))\n",
    "# Open a file\n",
    "fo = open(\"fibIt.txt\", \"w\")\n",
    "for item in y:\n",
    "    fo.write(\"%s\\n\" % item)\n",
    "#fo.write(str(y) + \"\\n\")\n",
    "# Close open file\n",
    "fo.close()\n",
    "y=[]\n",
    "# Open a file\n",
    "fo = open(\"fibIt.txt\", \"r\")\n",
    "for line in fo:\n",
    "    # remove linebreak which is the last character of the string\n",
    "    currentPlace = line[:-1]\n",
    "    # add item to the list\n",
    "    y.append(math.log(float(currentPlace)))\n",
    "# Close open file\n",
    "fo.close()\n",
    "print(y)\n",
    "x = list(range(len(y)))\n",
    "print(x)\n",
    "# plotting\n",
    "plt.plot(x, y, marker='o') \n",
    "# x axis \n",
    "plt.ylabel('log(time)') \n",
    "# y axis \n",
    "plt.xlabel('log(n)') \n",
    "plt.title('Time vs n in Log for Iteration') \n",
    "xmarks = range(0, n, 1)\n",
    "plt.xticks(xmarks)\n",
    "# show plot \n",
    "plt.show()"
   ]
  },
  {
   "cell_type": "code",
   "execution_count": 34,
   "metadata": {},
   "outputs": [
    {
     "name": "stdout",
     "output_type": "stream",
     "text": [
      "[-12.764331322530797, -12.41602462826258, -10.830397364522199, -8.433597982244466, -4.974635239717916]\n",
      "[0, 1, 2, 3, 4]\n"
     ]
    },
    {
     "data": {
      "image/png": "[encoded data removed]",
      "text/plain": [
       "<matplotlib.figure.Figure at 0x7f01302fb208>"
      ]
     },
     "metadata": {},
     "output_type": "display_data"
    }
   ],
   "source": [
    "import time\n",
    "import math\n",
    "import matplotlib.pyplot as plt \n",
    "def arrpow(arr, n):\n",
    "    yarr=arr\n",
    "    if n<1:\n",
    "        print('n needs to be larger than 1')\n",
    "    if n==1:\n",
    "        return arr\n",
    "    yarr = arrpow(arr, n//2)\n",
    "    yarr = [[yarr[0][0]*yarr[0][0]+yarr[0][1]*yarr[1][0],yarr[0][0]*yarr[0][1]+yarr[0][1]*yarr[1][1]],\n",
    "            [yarr[1][0]*yarr[0][0]+yarr[1][1]*yarr[1][0],yarr[1][0]*yarr[0][1]+yarr[1][1]*yarr[1][1]]]\n",
    "    if n%2:\n",
    "        yarr=[[yarr[0][0]*arr[0][0]+yarr[0][1]*arr[1][0],yarr[0][0]*arr[0][1]+yarr[0][1]*arr[1][1]],\n",
    "            [yarr[1][0]*arr[0][0]+yarr[1][1]*arr[1][0],yarr[1][0]*arr[0][1]+yarr[1][1]*arr[1][1]]]\n",
    "    return yarr\n",
    "\n",
    "def fibMat(n):\n",
    "    arr= [[1,1],[1,0]]\n",
    "    f=arrpow(arr,n-1)[0][0]\n",
    "    return f\n",
    "n=5\n",
    "y=[]\n",
    "for x in range(n):\n",
    "    start = time.time()\n",
    "    fibTab(10**x)\n",
    "    end = time.time()\n",
    "    y.append(end - start)\n",
    "x = list(range(n))\n",
    "# Open a file\n",
    "fo = open(\"fibIt.txt\", \"w\")\n",
    "for item in y:\n",
    "    fo.write(\"%s\\n\" % item)\n",
    "#fo.write(str(y) + \"\\n\")\n",
    "# Close open file\n",
    "fo.close()\n",
    "y=[]\n",
    "# Open a file\n",
    "fo = open(\"fibIt.txt\", \"r\")\n",
    "for line in fo:\n",
    "    # remove linebreak which is the last character of the string\n",
    "    currentPlace = line[:-1]\n",
    "    # add item to the list\n",
    "    y.append(math.log(float(currentPlace)))\n",
    "# Close open file\n",
    "fo.close()\n",
    "print(y)\n",
    "x = list(range(len(y)))\n",
    "print(x)\n",
    "# plotting\n",
    "plt.plot(x, y, marker='o') \n",
    "# x axis \n",
    "plt.ylabel('log(time)') \n",
    "# y axis \n",
    "plt.xlabel('log(n)') \n",
    "plt.title('Time vs n in Log for Iteration') \n",
    "xmarks = range(0, n, 1)\n",
    "plt.xticks(xmarks)\n",
    "# show plot \n",
    "plt.show()"
   ]
  },
  {
   "cell_type": "code",
   "execution_count": null,
   "metadata": {},
   "outputs": [],
   "source": []
  },
  {
   "cell_type": "code",
   "execution_count": null,
   "metadata": {
    "collapsed": true
   },
   "outputs": [],
   "source": []
  }
 ],
 "metadata": {
  "kernelspec": {
   "display_name": "Python 3",
   "language": "python",
   "name": "python3"
  },
  "language_info": {
   "codemirror_mode": {
    "name": "ipython",
    "version": 3
   },
   "file_extension": ".py",
   "mimetype": "text/x-python",
   "name": "python",
   "nbconvert_exporter": "python",
   "pygments_lexer": "ipython3",
   "version": "3.6.3"
  }
 },
 "nbformat": 4,
 "nbformat_minor": 2
}
