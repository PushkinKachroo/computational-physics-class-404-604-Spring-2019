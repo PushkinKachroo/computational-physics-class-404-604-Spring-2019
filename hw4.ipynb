{
 "cells": [
  {
   "cell_type": "markdown",
   "metadata": {},
   "source": [
    "## Class Work\n",
    "__Trial-and-Error Roots via Bisection__"
   ]
  },
  {
   "cell_type": "code",
   "execution_count": 3,
   "metadata": {},
   "outputs": [
    {
     "data": {
      "image/png": "[encoded data removed]",
      "text/plain": [
       "<matplotlib.figure.Figure at 0x7fd85c2cc160>"
      ]
     },
     "metadata": {},
     "output_type": "display_data"
    }
   ],
   "source": [
    "## Always a good idea to draw the function first\n",
    "import matplotlib.pyplot as plt\n",
    "import numpy as np\n",
    "\n",
    "def f(x):\n",
    "    return 2.*np.sin(x)-x\n",
    "\n",
    "t = np.arange(0.0, 3.0, 0.01)\n",
    "s = f(t)\n",
    "plt.plot(t, s)\n",
    "s2 = np.zeros(len(t))\n",
    "plt.plot(t,s2)\n",
    "plt.show()"
   ]
  },
  {
   "cell_type": "code",
   "execution_count": 4,
   "metadata": {
    "collapsed": true
   },
   "outputs": [],
   "source": [
    "def bisection(xmin,xmax, Nmax, eps,f):\n",
    "    for i in range(0,Nmax):\n",
    "        x=(xmin+xmax)/2.\n",
    "        if(f(xmin)*f(x)>0):\n",
    "            # add one line here\n",
    "            xmin = x\n",
    "        else:\n",
    "            # add another line here\n",
    "            xmax = x\n",
    "        if(abs(f(x))<eps):\n",
    "            print(\"Root is at\",x,\" after \",i,\" iterations, with a precision of \",abs(f(x)))\n",
    "            break\n",
    "    return x"
   ]
  },
  {
   "cell_type": "code",
   "execution_count": 5,
   "metadata": {},
   "outputs": [
    {
     "name": "stdout",
     "output_type": "stream",
     "text": [
      "Root is at 1.8954942673444748  after  24  iterations, with a precision of  5.08602937543e-10\n"
     ]
    }
   ],
   "source": [
    "eps = 1.e-8\n",
    "a=0.5\n",
    "b=3.\n",
    "nmax=100\n",
    "root = bisection(a,b,nmax,eps,f)"
   ]
  },
  {
   "cell_type": "markdown",
   "metadata": {},
   "source": [
    "__Newton-Raphson Searching__"
   ]
  },
  {
   "cell_type": "code",
   "execution_count": 6,
   "metadata": {
    "collapsed": true
   },
   "outputs": [],
   "source": [
    "def newtonraphson(x0,dx, Nmax, eps,f):\n",
    "    for i in range(0,Nmax):\n",
    "        df = (f(x0+dx/2)-f(x0-dx/2))/dx\n",
    "        # add one line here to update x0\n",
    "        x0=x0-f(x0)/df\n",
    "        if(abs(f(x0))<eps):\n",
    "            print(\"Root is at\",x0,\" after \",i,\" iterations, with a precision of \",abs(f(x0)))\n",
    "            break\n",
    "    return x0"
   ]
  },
  {
   "cell_type": "code",
   "execution_count": 7,
   "metadata": {},
   "outputs": [
    {
     "name": "stdout",
     "output_type": "stream",
     "text": [
      "Root is at 1.89549426703  after  4  iterations, with a precision of  4.4408920985e-16\n"
     ]
    }
   ],
   "source": [
    "eps = 1.e-8\n",
    "dx=1.e-6\n",
    "a=3.\n",
    "nmax=100\n",
    "root = newtonraphson(a,dx,nmax,eps,f)"
   ]
  },
  {
   "cell_type": "code",
   "execution_count": 8,
   "metadata": {},
   "outputs": [
    {
     "name": "stdout",
     "output_type": "stream",
     "text": [
      "Root is at 0.0  after  0  iterations, with a precision of  0.0\n"
     ]
    }
   ],
   "source": [
    "# However, if the initial guess is on the other side of the slope, it will get a different result\n",
    "eps = 1.e-8\n",
    "dx=1.e-6\n",
    "a=0.\n",
    "nmax=100\n",
    "root = newtonraphson(a,dx,nmax,eps,f)"
   ]
  },
  {
   "cell_type": "code",
   "execution_count": 9,
   "metadata": {},
   "outputs": [
    {
     "data": {
      "image/png": "[encoded data removed]",
      "text/plain": [
       "<matplotlib.figure.Figure at 0x7fd8360bdef0>"
      ]
     },
     "metadata": {},
     "output_type": "display_data"
    }
   ],
   "source": [
    "# it can even fail, entering infinity loop, for example x^3-2x+2\n",
    "import matplotlib.pyplot as plt\n",
    "import numpy as np\n",
    "\n",
    "def f(x):\n",
    "    return x*x*x-2*x+2\n",
    "\n",
    "t = np.arange(-2., 2.0, 0.1)\n",
    "s = f(t)\n",
    "plt.plot(t, s)\n",
    "s2 = np.zeros(len(t))\n",
    "plt.plot(t,s2)\n",
    "plt.show()"
   ]
  },
  {
   "cell_type": "code",
   "execution_count": 10,
   "metadata": {},
   "outputs": [
    {
     "name": "stdout",
     "output_type": "stream",
     "text": [
      "0.9999999999712443\n",
      "1.397779669787269e-10\n",
      "0.9999999999712443\n",
      "1.397779669787269e-10\n",
      "0.9999999999712443\n",
      "1.397779669787269e-10\n",
      "0.9999999999712443\n",
      "1.397779669787269e-10\n",
      "0.9999999999712443\n",
      "1.397779669787269e-10\n",
      "0.9999999999712443\n",
      "1.397779669787269e-10\n",
      "0.9999999999712443\n",
      "1.397779669787269e-10\n",
      "0.9999999999712443\n",
      "1.397779669787269e-10\n",
      "0.9999999999712443\n",
      "1.397779669787269e-10\n",
      "0.9999999999712443\n",
      "1.397779669787269e-10\n",
      "0.9999999999712443\n",
      "1.397779669787269e-10\n",
      "0.9999999999712443\n",
      "1.397779669787269e-10\n",
      "0.9999999999712443\n",
      "1.397779669787269e-10\n",
      "0.9999999999712443\n",
      "1.397779669787269e-10\n",
      "0.9999999999712443\n",
      "1.397779669787269e-10\n",
      "0.9999999999712443\n",
      "1.397779669787269e-10\n",
      "0.9999999999712443\n",
      "1.397779669787269e-10\n",
      "0.9999999999712443\n",
      "1.397779669787269e-10\n",
      "0.9999999999712443\n",
      "1.397779669787269e-10\n",
      "0.9999999999712443\n",
      "1.397779669787269e-10\n",
      "0.9999999999712443\n",
      "1.397779669787269e-10\n",
      "0.9999999999712443\n",
      "1.397779669787269e-10\n",
      "0.9999999999712443\n",
      "1.397779669787269e-10\n",
      "0.9999999999712443\n",
      "1.397779669787269e-10\n",
      "0.9999999999712443\n",
      "1.397779669787269e-10\n",
      "0.9999999999712443\n",
      "1.397779669787269e-10\n",
      "0.9999999999712443\n",
      "1.397779669787269e-10\n",
      "0.9999999999712443\n",
      "1.397779669787269e-10\n",
      "0.9999999999712443\n",
      "1.397779669787269e-10\n",
      "0.9999999999712443\n",
      "1.397779669787269e-10\n",
      "0.9999999999712443\n",
      "1.397779669787269e-10\n",
      "0.9999999999712443\n",
      "1.397779669787269e-10\n",
      "0.9999999999712443\n",
      "1.397779669787269e-10\n",
      "0.9999999999712443\n",
      "1.397779669787269e-10\n",
      "0.9999999999712443\n",
      "1.397779669787269e-10\n",
      "0.9999999999712443\n",
      "1.397779669787269e-10\n",
      "0.9999999999712443\n",
      "1.397779669787269e-10\n",
      "0.9999999999712443\n",
      "1.397779669787269e-10\n",
      "0.9999999999712443\n",
      "1.397779669787269e-10\n",
      "0.9999999999712443\n",
      "1.397779669787269e-10\n",
      "0.9999999999712443\n",
      "1.397779669787269e-10\n",
      "0.9999999999712443\n",
      "1.397779669787269e-10\n",
      "0.9999999999712443\n",
      "1.397779669787269e-10\n",
      "0.9999999999712443\n",
      "1.397779669787269e-10\n",
      "0.9999999999712443\n",
      "1.397779669787269e-10\n",
      "0.9999999999712443\n",
      "1.397779669787269e-10\n",
      "0.9999999999712443\n",
      "1.397779669787269e-10\n",
      "0.9999999999712443\n",
      "1.397779669787269e-10\n",
      "0.9999999999712443\n",
      "1.397779669787269e-10\n",
      "0.9999999999712443\n",
      "1.397779669787269e-10\n"
     ]
    },
    {
     "ename": "NameError",
     "evalue": "name 'x' is not defined",
     "output_type": "error",
     "traceback": [
      "\u001b[0;31m---------------------------------------------------------------------------\u001b[0m",
      "\u001b[0;31mNameError\u001b[0m                                 Traceback (most recent call last)",
      "\u001b[0;32m<ipython-input-10-c49059262e29>\u001b[0m in \u001b[0;36m<module>\u001b[0;34m()\u001b[0m\n\u001b[1;32m     10\u001b[0m \u001b[0ma\u001b[0m\u001b[0;34m=\u001b[0m\u001b[0;36m0.\u001b[0m\u001b[0;34m\u001b[0m\u001b[0m\n\u001b[1;32m     11\u001b[0m \u001b[0mnmax\u001b[0m\u001b[0;34m=\u001b[0m\u001b[0;36m100\u001b[0m\u001b[0;34m\u001b[0m\u001b[0m\n\u001b[0;32m---> 12\u001b[0;31m \u001b[0mroot\u001b[0m \u001b[0;34m=\u001b[0m \u001b[0mnewtonraphson2\u001b[0m\u001b[0;34m(\u001b[0m\u001b[0ma\u001b[0m\u001b[0;34m,\u001b[0m\u001b[0mdx\u001b[0m\u001b[0;34m,\u001b[0m\u001b[0mnmax\u001b[0m\u001b[0;34m,\u001b[0m\u001b[0meps\u001b[0m\u001b[0;34m,\u001b[0m\u001b[0mf\u001b[0m\u001b[0;34m)\u001b[0m\u001b[0;34m\u001b[0m\u001b[0m\n\u001b[0m",
      "\u001b[0;32m<ipython-input-10-c49059262e29>\u001b[0m in \u001b[0;36mnewtonraphson2\u001b[0;34m(x0, dx, Nmax, eps, f)\u001b[0m\n\u001b[1;32m      4\u001b[0m         \u001b[0mx0\u001b[0m \u001b[0;34m=\u001b[0m \u001b[0mx0\u001b[0m\u001b[0;34m-\u001b[0m\u001b[0mf\u001b[0m\u001b[0;34m(\u001b[0m\u001b[0mx0\u001b[0m\u001b[0;34m)\u001b[0m\u001b[0;34m/\u001b[0m\u001b[0mdf\u001b[0m\u001b[0;34m\u001b[0m\u001b[0m\n\u001b[1;32m      5\u001b[0m         \u001b[0mprint\u001b[0m\u001b[0;34m(\u001b[0m\u001b[0mx0\u001b[0m\u001b[0;34m)\u001b[0m\u001b[0;34m\u001b[0m\u001b[0m\n\u001b[0;32m----> 6\u001b[0;31m     \u001b[0;32mreturn\u001b[0m \u001b[0mx\u001b[0m\u001b[0;34m\u001b[0m\u001b[0m\n\u001b[0m\u001b[1;32m      7\u001b[0m \u001b[0;34m\u001b[0m\u001b[0m\n\u001b[1;32m      8\u001b[0m \u001b[0meps\u001b[0m \u001b[0;34m=\u001b[0m \u001b[0;36m1.e-8\u001b[0m\u001b[0;34m\u001b[0m\u001b[0m\n",
      "\u001b[0;31mNameError\u001b[0m: name 'x' is not defined"
     ]
    }
   ],
   "source": [
    "def newtonraphson2(x0,dx, Nmax, eps,f):\n",
    "    for i in range(0,Nmax):\n",
    "        df = (f(x0+dx/2)-f(x0-dx/2))/dx\n",
    "        x0 = x0-f(x0)/df\n",
    "        print(x0)\n",
    "    return x\n",
    "\n",
    "eps = 1.e-8\n",
    "dx=1.e-6\n",
    "a=0.\n",
    "nmax=100\n",
    "root = newtonraphson2(a,dx,nmax,eps,f)"
   ]
  },
  {
   "cell_type": "markdown",
   "metadata": {},
   "source": [
    "__Newton-Raphson with Backtracking__"
   ]
  },
  {
   "cell_type": "code",
   "execution_count": 11,
   "metadata": {
    "collapsed": true
   },
   "outputs": [],
   "source": [
    "def newtonraphsonbacktracking(x0,dx,Nmax, eps,f):\n",
    "    for i in range(0,Nmax):        \n",
    "        df = (f(x0+dx/2)-f(x0-dx/2))/dx\n",
    "        dxt = -f(x0)/df\n",
    "        while (abs(f(x0+dxt))>abs(f(x0))): # please finish the statement in while\n",
    "              dxt=dxt/2.\n",
    "        x0 = x0+dxt\n",
    "        print(x0,dxt,f(x0),df)\n",
    "        if(abs(f(x0))<eps):\n",
    "              print(\"Root is at\",x0,\" after \",i,\" iterations, with a precision of \",abs(f(x0)))\n",
    "              break\n",
    "    return x0"
   ]
  },
  {
   "cell_type": "code",
   "execution_count": 12,
   "metadata": {},
   "outputs": [
    {
     "name": "stdout",
     "output_type": "stream",
     "text": [
      "0.9999999999712443 0.9999999999712443 0.9999999999712443 -2.0000000000575113\n",
      "0.7500000000133777 -0.2499999999578666 0.9218749999958193 1.000000000139778\n",
      "0.8421875000492013 0.09218750003582352 0.9129715690675693 -0.31249999987714716\n",
      "0.8142908075929085 -0.027896692456292796 0.9113497991999036 0.1278393557679891\n",
      "0.8168680524869241 0.002577244894015586 0.9113382301554562 -0.010791441962254567\n",
      "0.8163905784511616 -0.000477474035762443 0.9113379196189271 0.0018202452878313125\n",
      "0.8165997950586598 0.0002092166074981222 0.9113379181922632 -0.0005192701824086043\n",
      "0.8164923744917667 -0.00010742056689300943 0.9113378921397066 0.0005056757235166742\n",
      "0.8164975228482569 5.148356490287829e-06 0.9113378920985387 -2.060729364927738e-05\n",
      "0.8164960858970468 -1.4369512100993608e-06 0.9113378920969657 4.614530979552001e-06\n",
      "0.8164967694421862 6.835451393571088e-07 0.9113378920964523 -2.425171174991192e-06\n",
      "0.8164965451128589 -2.2432932728528058e-07 0.9113378920963684 9.237055564881302e-07\n",
      "0.8164965820278114 3.6914952591245304e-08 0.9113378920963653 -1.7541523789077473e-07\n",
      "-1.7317888620864241 -2.5482854441142355 0.26978245429000536 5.329070518200751e-09\n",
      "-1.770344205280304 -0.038555343193879904 -0.0077803007624961396 6.997277989029271\n",
      "-1.7692931478933545 0.0010510573869496104 -5.866053263137161e-06 7.402355817198725\n",
      "-1.769292354239084 7.936542706142389e-07 -3.3448799285906716e-12 7.391194730921313\n",
      "Root is at -1.769292354239084  after  16  iterations, with a precision of  3.3448799285906716e-12\n"
     ]
    }
   ],
   "source": [
    "# it can even fail, entering infinity loop\n",
    "import matplotlib.pyplot as plt\n",
    "import numpy as np\n",
    "\n",
    "def f(x):\n",
    "    return x*x*x-2*x+2\n",
    "\n",
    "eps = 1.e-8\n",
    "dx=1.e-6\n",
    "a=0.\n",
    "nmax=100\n",
    "root = newtonraphsonbacktracking(a,dx,nmax,eps,f)"
   ]
  },
  {
   "cell_type": "markdown",
   "metadata": {},
   "source": [
    "__Newton-Raphson for equations__\n",
    "\n",
    "$x_1^2+x_1x_2=10$ <br>\n",
    "$x_2+3x_1x_2^2=57$"
   ]
  },
  {
   "cell_type": "code",
   "execution_count": 16,
   "metadata": {},
   "outputs": [
    {
     "data": {
      "image/png": "[encoded data removed]",
      "text/plain": [
       "<matplotlib.figure.Figure at 0x7fd835fa3940>"
      ]
     },
     "metadata": {},
     "output_type": "display_data"
    }
   ],
   "source": [
    "## Always a good idea to draw the function first\n",
    "import matplotlib.pyplot as plt\n",
    "import numpy as np\n",
    "\n",
    "def f1(x):\n",
    "    return (10.-x*x)/x\n",
    "\n",
    "def f2(x):\n",
    "    return (-1+np.sqrt(1.+4.*3.*x*57))/6./x\n",
    "\n",
    "## Draw graphics to roughly determine x1 and x2\n",
    "t = np.arange(0.2, 3.0, 0.1)\n",
    "s = f1(t)\n",
    "plt.plot(t, s)\n",
    "s = f2(t)\n",
    "plt.plot(t, s)\n",
    "s = np.zeros(len(t))\n",
    "plt.plot(t,s)\n",
    "plt.show()"
   ]
  },
  {
   "cell_type": "code",
   "execution_count": 20,
   "metadata": {},
   "outputs": [
    {
     "name": "stdout",
     "output_type": "stream",
     "text": [
      "[-7.0, -43.0]\n"
     ]
    }
   ],
   "source": [
    "# return several values using array\n",
    "import matplotlib.pyplot as plt\n",
    "import numpy as np\n",
    "\n",
    "\n",
    "def F(x,f):\n",
    "    f[0]=x[0]*x[0]+x[0]*x[1]-10.\n",
    "    f[1]=x[1]+3.*x[0]*x[1]*x[1]-57.\n",
    "\n",
    "x=[1.,2.]\n",
    "F(x,f)\n",
    "print(f)"
   ]
  },
  {
   "cell_type": "code",
   "execution_count": 23,
   "metadata": {},
   "outputs": [
    {
     "name": "stdout",
     "output_type": "stream",
     "text": [
      "[-6.0]\n",
      "0.0\n"
     ]
    }
   ],
   "source": [
    "f=[0.]  #in f is an array or np.array, the main program can notice that \n",
    "        #it has been changed within a function (it is similar to pass by pointer (C) or reference (C++))\n",
    "def F2(x,f):\n",
    "    f[0]=x-10.\n",
    "\n",
    "F2(4.,f)\n",
    "print(f)\n",
    "\n",
    "f=0.             #If f is a variable, the main program won't notice that it is changed within the program\n",
    "def F3(x,f):\n",
    "    f=x-10.\n",
    "\n",
    "F3(4.,f)\n",
    "print(f)"
   ]
  },
  {
   "cell_type": "markdown",
   "metadata": {},
   "source": [
    "# Homework: using Newton-Raphson method to solve above equation arrays\n",
    "### Hint: first you need to derive the partical derivative of the equation arrays. You can do it either analytically by hand or numerically using method we learned in the last lecture.\n",
    "$x_1^2+x_1x_2=10$ <br>\n",
    "$x_2+3x_1x_2^2=57$"
   ]
  },
  {
   "cell_type": "code",
   "execution_count": 24,
   "metadata": {},
   "outputs": [
    {
     "name": "stdout",
     "output_type": "stream",
     "text": [
      "Number of iterations =  15 \n",
      " Final Solution:\n",
      "x[ 0 ] =   2.0\n",
      "x[ 1 ] =   3.00005\n"
     ]
    }
   ],
   "source": [
    "from numpy import *\n",
    "from numpy.linalg import solve\n",
    "\n",
    "n = 2\n",
    "eps = 1e-3\n",
    "deriv = zeros( (n, n), float)\n",
    "f = zeros( (n), float)\n",
    "x = array([0.5, 0.5])\n",
    "\n",
    "def F(x, f): \n",
    "    f[0]=x[0]*x[0]+x[0]*x[1]-10.\n",
    "    f[1]=x[1]+3.*x[0]*x[1]*x[1]-57.\n",
    "    \n",
    "def dFi_dXj(x, deriv, n):                           # Derivatives\n",
    "    h = 1e-4                                             \n",
    "    for j in range(0, n):\n",
    "         temp = x[j]\n",
    "         x[j] = x[j] +  h/2.\n",
    "         F(x, f)                                                 \n",
    "         for i in range(0, n):  deriv[i, j] = f[i] \n",
    "         x[j] = temp\n",
    "    for j in range(0, n):\n",
    "         temp = x[j]\n",
    "         x[j] = x[j] - h/2.\n",
    "         F(x, f)\n",
    "         for i in range(0, n): deriv[i, j] = (deriv[i, j] - f[i])/h\n",
    "         x[j] = temp\n",
    "\n",
    "for it in range(1, 100):                            \n",
    "      F(x, f)                              \n",
    "      dFi_dXj(x, deriv, n)   \n",
    "      B = array([[-f[0]], [-f[1]]])      \n",
    "      sol = solve(deriv, B)\n",
    "      dx = sol#take(sol, (0, ), 1)               # First column of sol\n",
    "      for i in range(0, n):\n",
    "        x[i]  = x[i]  +  dx[i]\n",
    "      errX = errF = errXi = 0.0\n",
    "      endi=0\n",
    "      for i in range(0, n):\n",
    "        if ( x[i] !=  0.): errXi = abs(dx[i]/x[i])\n",
    "        else:  errXi = abs(dx[i])\n",
    "        if ( errXi > errX): errX = errXi                            \n",
    "        if ( abs(f[i]) > errF ):  errF = abs(f[i])        \n",
    "        if ( (errX <=  eps) and (errF <=  eps) ): endi=1\n",
    "      if(endi==1): break  \n",
    "      \n",
    "print('Number of iterations = ', it, \"\\n Final Solution:\")\n",
    "for i in range(0, n):\n",
    "        print('x[', i, '] =  ', x[i]) "
   ]
  },
  {
   "cell_type": "markdown",
   "metadata": {},
   "source": [
    "# Class Work"
   ]
  },
  {
   "cell_type": "code",
   "execution_count": 25,
   "metadata": {},
   "outputs": [
    {
     "name": "stdout",
     "output_type": "stream",
     "text": [
      "[ 232.  218.  123.  213.]\n"
     ]
    }
   ],
   "source": [
    "import numpy as np\n",
    "a=np.array([[9.,13.,5.,2.],[1.,11.,7.,6.],[3.,7.,4.,1.],[6.,1.,7.,10.]])\n",
    "b=np.array([7.,8.,9.,10.])\n",
    "c=np.zeros(4)\n",
    "\n",
    "for i in range(4):\n",
    "    for j in range(4):\n",
    "        # please finish this line\n",
    "        c[i]=c[i]+a[i,j]*b[j]\n",
    "        \n",
    "print(c)"
   ]
  },
  {
   "cell_type": "code",
   "execution_count": 26,
   "metadata": {
    "collapsed": true
   },
   "outputs": [],
   "source": [
    "import numpy as np\n",
    "#============================================================================\n",
    "def LUFactor(a, ipivot, n):\n",
    "# Copy right, code from Titus textbook. \n",
    "#----------------------------------------------------------------------------\n",
    "#  Performs LU factorization of (n x n) matrix a (diag(L) = 1). On exit,\n",
    "#  replaces upper triangle and diagonal with U, and lower triangle, with L.\n",
    "#  Uses partial pivoting on columns.\n",
    "#  a      - coefficient matrix (n x n); LU decomposition on exit\n",
    "#  ipivot - array of pivot row indexes (output)\n",
    "#  det    - determinant of coefficient matrix (output).\n",
    "#----------------------------------------------------------------------------\n",
    "   det = 1e0\n",
    "   for j in range(n):                                 # loop over columns\n",
    "      for i in range(j):                             # elements of matrix U\n",
    "         sum = a[i][j]\n",
    "         for k in range(i): sum -= a[i][k]*a[k][j]\n",
    "         a[i][j] = sum\n",
    "\n",
    "      amax = 0e0\n",
    "      for i in range(j,n):                           # elements of matrix L\n",
    "         sum = a[i][j]                                 # undivided by pivot\n",
    "         for k in range(j): sum -= a[i][k]*a[k][j]\n",
    "         a[i][j] = sum\n",
    "                                                            # determine pivot\n",
    "         if (amax < np.fabs(a[i][j])): amax = np.fabs(a[i][j]); imax = i\n",
    "\n",
    "      if (amax == 0e0): print(\"LUFactor: singular matrix !\"); return 0e0\n",
    "\n",
    "      ipivot[j] = imax                                # store pivot row index\n",
    "                                                # interchange rows imax and j\n",
    "      if (imax != j):                           # to put pivot on diagonal\n",
    "         det = -det\n",
    "         for k in range(n):\n",
    "            t = a[imax][k]; a[imax][k] = a[j][k]; a[j][k] = t\n",
    "\n",
    "      det *= a[j][j]                        # multiply determinant with pivot\n",
    "\n",
    "      t = 1e0/a[j][j]                         # divide elements of L by pivot\n",
    "      for i in range(j+1,n): a[i][j] *= t\n",
    "\n",
    "   return det\n",
    "\n",
    "#============================================================================\n",
    "def LUSystem(a, ipivot, b, n):\n",
    "# Copy right, code from Titus textbook. \n",
    "#----------------------------------------------------------------------------\n",
    "#  Solves linear system a x = b of order n by LU factorization.\n",
    "#  a      - LU decomposition of coefficient matrix (returned by LUFactor)\n",
    "#  ipivot - array of pivot row indexes (input)\n",
    "#  b      - vector of constant terms (input); solution x (on exit)\n",
    "#----------------------------------------------------------------------------\n",
    "   for i in range(n):                                     # solves Ly = b\n",
    "      sum = b[int(ipivot[i])]\n",
    "      b[int(ipivot[i])] = b[i]\n",
    "      for j in range(i): sum -= a[i][j]*b[j]\n",
    "      b[i] = sum\n",
    "\n",
    "   for i in range(n-1,-1,-1):                                    # solves Ux = y\n",
    "      sum = b[i]\n",
    "      for j in range(i+1,n): sum -= a[i][j]*b[j]\n",
    "      b[i] = sum/a[i][i]"
   ]
  },
  {
   "cell_type": "code",
   "execution_count": 27,
   "metadata": {},
   "outputs": [
    {
     "name": "stdout",
     "output_type": "stream",
     "text": [
      "[ 0.1729798  -0.87689394  4.13194444 -1.9084596 ]\n",
      "[  0.00000000e+00   0.00000000e+00   0.00000000e+00  -7.10542736e-15]\n"
     ]
    }
   ],
   "source": [
    "import numpy as np\n",
    "a=np.array([[9.,13.,5.,2.],[1.,11.,7.,6.],[3.,7.,4.,1.],[6.,1.,7.,10.]])\n",
    "b=np.array([7.,8.,9.,10.])\n",
    "aa=np.copy(a)    #deep copy of an array\n",
    "bb=np.copy(b)    #deep copy of an array\n",
    "ipivot=np.zeros(4)\n",
    "de=LUFactor(a,ipivot,4)\n",
    "LUSystem(a,ipivot,b,4)\n",
    "print(b)\n",
    "\n",
    "print(np.dot(aa,b)-bb)"
   ]
  },
  {
   "cell_type": "code",
   "execution_count": 28,
   "metadata": {
    "collapsed": true
   },
   "outputs": [],
   "source": [
    "#============================================================================\n",
    "def GaussSeidel(a, b, x, n, init):\n",
    "# Copy right, code from Titus textbook. \n",
    "#----------------------------------------------------------------------------\n",
    "#  Solves linear system a x = b by the Gauss-Seidel method.\n",
    "#  Convergence is ensure by left-multiplying the system with a^T.\n",
    "#  a    - coefficient matrix (n x n)\n",
    "#  b    - vector of constant terms\n",
    "#  x    - initial approximation of solution (input); solution (output)\n",
    "#  n    - order of system\n",
    "#  err  - maximum relative error of the solution components\n",
    "#  init - initialization option: 0 - refines initial approximation \n",
    "#                                1 - initializes solution\n",
    "#----------------------------------------------------------------------------\n",
    "   eps = 1e-15                                 # relative precision criterion\n",
    "   itmax = 10000                                    # max no. of iterations\n",
    "\n",
    "   s = [[0]*(n) for i in range(n)]           # matrices of reduced system\n",
    "   t = [0]*(n)\n",
    "\n",
    "   for i in range(n):                         # matrices of normal system\n",
    "      for j in range(i+1):                      # by multiplication with aT\n",
    "         s[i][j] = 0e0                            # store result in s and t\n",
    "         for k in range(n): s[i][j] += a[k][i]*a[k][j]\n",
    "         s[j][i] = s[i][j]\n",
    "\n",
    "      t[i] = 0e0\n",
    "      for j in range(n): t[i] += a[j][i]*b[j]\n",
    "\n",
    "   for i in range(n):                # matrices s and t of reduced system\n",
    "      f = -1e0/s[i][i]; t[i] /= s[i][i]\n",
    "      for j in range(n): s[i][j] *= f\n",
    "\n",
    "   if (init):\n",
    "      for i in range(n): x[i] = t[i]                # initialize solution\n",
    "\n",
    "   for k in range(itmax):                            # loop of iterations\n",
    "      err = 0e0\n",
    "      for i in range(n):\n",
    "         delta = t[i]                                            # correction\n",
    "         for j in range(n): delta += s[i][j]*x[j]\n",
    "         x[i] += delta                        # new approximation to solution\n",
    "         if (x[i]): delta /= x[i]                            # relative error\n",
    "         if (np.fabs(delta) > err): err = np.fabs(delta)            # maximum error\n",
    "       #  print('delta,err',delta,err)\n",
    "            \n",
    "      if (err <= eps): break                              # check convergence\n",
    "\n",
    "   if (k > itmax-2): print(\"GaussSeidel: max. no. of iterations exceeded !\")\n",
    "    \n",
    "   return err"
   ]
  },
  {
   "cell_type": "code",
   "execution_count": 29,
   "metadata": {},
   "outputs": [
    {
     "name": "stdout",
     "output_type": "stream",
     "text": [
      "x= [ 0.1729798  -0.87689394  4.13194444 -1.9084596 ]\n",
      "[  9.23705556e-14   6.75015599e-14  -2.27373675e-13  -3.19744231e-14]\n"
     ]
    }
   ],
   "source": [
    "import numpy as np\n",
    "a=np.array([[9.,13.,5.,2.],[1.,11.,7.,6.],[3.,7.,4.,1.],[6.,1.,7.,10.]])\n",
    "b=np.array([7.,8.,9.,10.])\n",
    "x=np.array([1.,1.,1.,1.])\n",
    "\n",
    "GaussSeidel(a, b, x, 4, 1)\n",
    "print('x=',x)\n",
    "print(np.dot(a,x)-b)"
   ]
  },
  {
   "cell_type": "code",
   "execution_count": 30,
   "metadata": {},
   "outputs": [
    {
     "name": "stdout",
     "output_type": "stream",
     "text": [
      "x= [ 1.  0.  0.  0.  0.  0.  0.  0. -0. -0. -0.  0.  0.  0. -0.  0. -0. -0.\n",
      "  0.  0.  0. -0.  0.  0.  0. -0. -0. -0.  0.  0. -0.  0. -0.  0.  0.  0.\n",
      " -0. -0. -0.  0. -0. -0. -0.  0. -0. -0. -0.  0.  0. -0.  0.  0.  0.  0.\n",
      " -0.  0. -0.  0.  0.  0. -0.  0. -0. -0.  0.  0.  0. -0. -0.  0. -0. -0.\n",
      "  0.  0. -0. -0.  0.  0. -0. -0.  0. -0. -0. -0.  0. -0. -0.  0.  0.  0.\n",
      " -0.  0.  0. -0. -0.  0. -0. -0. -0. -0.]\n",
      "Time  0.0009958744049072266\n",
      "GaussSeidel: max. no. of iterations exceeded !\n",
      "x= [ 1.0297499  -0.04694805 -0.26420505  0.32845104  1.          1.          1.\n",
      "  1.          1.          1.          1.          1.          1.          1.\n",
      "  1.          1.          1.          1.          1.          1.          1.\n",
      "  1.          1.          1.          1.          1.          1.          1.\n",
      "  1.          1.          1.          1.          1.          1.          1.\n",
      "  1.          1.          1.          1.          1.          1.          1.\n",
      "  1.          1.          1.          1.          1.          1.          1.\n",
      "  1.          1.          1.          1.          1.          1.          1.\n",
      "  1.          1.          1.          1.          1.          1.          1.\n",
      "  1.          1.          1.          1.          1.          1.          1.\n",
      "  1.          1.          1.          1.          1.          1.          1.\n",
      "  1.          1.          1.          1.          1.          1.          1.\n",
      "  1.          1.          1.          1.          1.          1.          1.\n",
      "  1.          1.          1.          1.          1.          1.          1.\n",
      "  1.          1.        ]\n",
      "Time  0.32910990715026855\n",
      "x= [ 1.          0.         -0.          0.          0.2         0.16666667\n",
      "  0.14285714  0.125       0.11111111  0.1         0.09090909  0.08333333\n",
      "  0.07692308  0.07142857  0.06666667  0.0625      0.05882353  0.05555556\n",
      "  0.05263158  0.05        0.04761905  0.04545455  0.04347826  0.04166667\n",
      "  0.04        0.03846154  0.03703704  0.03571429  0.03448276  0.03333333\n",
      "  0.03225806  0.03125     0.03030303  0.02941176  0.02857143  0.02777778\n",
      "  0.02702703  0.02631579  0.02564103  0.025       0.02439024  0.02380952\n",
      "  0.02325581  0.02272727  0.02222222  0.02173913  0.0212766   0.02083333\n",
      "  0.02040816  0.02        0.01960784  0.01923077  0.01886792  0.01851852\n",
      "  0.01818182  0.01785714  0.01754386  0.01724138  0.01694915  0.01666667\n",
      "  0.01639344  0.01612903  0.01587302  0.015625    0.01538462  0.01515152\n",
      "  0.01492537  0.01470588  0.01449275  0.01428571  0.01408451  0.01388889\n",
      "  0.01369863  0.01351351  0.01333333  0.01315789  0.01298701  0.01282051\n",
      "  0.01265823  0.0125      0.01234568  0.01219512  0.01204819  0.01190476\n",
      "  0.01176471  0.01162791  0.01149425  0.01136364  0.01123596  0.01111111\n",
      "  0.01098901  0.01086957  0.01075269  0.0106383   0.01052632  0.01041667\n",
      "  0.01030928  0.01020408  0.01010101  0.01      ]\n",
      "Time  0.0002422332763671875\n"
     ]
    }
   ],
   "source": [
    "import numpy as np\n",
    "import time\n",
    "N=100\n",
    "A=np.zeros((N,N),float)\n",
    "B=np.zeros(N,float)\n",
    "for i in range(N):\n",
    "    for j in range(N):\n",
    "        A[i,j]=1./(i+j+1.)\n",
    "        \n",
    "for i in range(N):\n",
    "    B[i]=1./(i+1)\n",
    "\n",
    "start = time.time()\n",
    "# write one line of code to solve Ax=B using linalg package \n",
    "x=np.linalg.solve(A,B)\n",
    "end = time.time()\n",
    "print('x=',x)\n",
    "print('Time ',end-start)\n",
    "\n",
    "x=np.ones(N)\n",
    "start2 = time.time()\n",
    "# write one line of code to solve Ax=B using Gauss-Siedel method \n",
    "GaussSeidel(A, B, x, 4, 1)\n",
    "\n",
    "end2 = time.time()\n",
    "print('x=',x)\n",
    "print('Time ',end2-start2)\n",
    "\n",
    "ipivot=np.zeros(N)\n",
    "start3 = time.time()\n",
    "# write two lines of code to solve Ax=B with LU decomposition\n",
    "de=LUFactor(A,ipivot,4)\n",
    "LUSystem(A,ipivot,B,4)\n",
    "\n",
    "end3 = time.time()\n",
    "print('x=',B)\n",
    "print('Time ',end3-start3)"
   ]
  },
  {
   "cell_type": "code",
   "execution_count": 37,
   "metadata": {},
   "outputs": [
    {
     "name": "stdout",
     "output_type": "stream",
     "text": [
      "[[ 1. -3.  3.]\n",
      " [ 3. -5.  3.]\n",
      " [ 6. -6.  4.]]\n",
      "Eigenvalues [ 4. +0.00000000e+00j -2. +1.10465796e-15j -2. -1.10465796e-15j] \n",
      " Eigenmatrix [[-0.40824829+0.j          0.24400118-0.40702229j  0.24400118+0.40702229j]\n",
      " [-0.40824829+0.j         -0.41621909-0.40702229j -0.41621909+0.40702229j]\n",
      " [-0.81649658+0.j         -0.66022027+0.j         -0.66022027-0.j        ]]\n",
      "Eigenvector [-0.40824829+0.j -0.40824829+0.j -0.81649658+0.j] [ 0.24400118-0.40702229j -0.41621909-0.40702229j -0.66022027+0.j        ] [ 0.24400118-0.40702229j -0.41621909-0.40702229j -0.66022027+0.j        ]\n",
      "LHS-RHS [  4.44089210e-16+0.j   2.22044605e-16+0.j   8.88178420e-16+0.j]\n"
     ]
    }
   ],
   "source": [
    "# Find the eigenvalue and eigenvector for ([1,-3,3],[3,-5,3],[6,-6,4])\n",
    "\n",
    "# Now double check that the derived eigenvalue and eigenvector can satisfy Ax=\\lamba x\n",
    "\n",
    "# Find the eigenvalue and eigenvector for ([1,-3,3],[3,-5,3],[6,-6,4])\n",
    "\n",
    "# Now double check that the derived eigenvalue and eigenvector can satisfy Ax=\\lamba x\n",
    "\n",
    "import numpy as np\n",
    "I=np.array([[1.,-3.,3.],[3.,-5.,3.],[6.,-6.,4.]])\n",
    "print(I)\n",
    "eigenvalues, eigenmatrix = np.linalg.eig(I)\n",
    "print('Eigenvalues', eigenvalues, '\\n Eigenmatrix', eigenmatrix)\n",
    "print('Eigenvector',eigenmatrix[:,0],eigenmatrix[:,1], eigenmatrix[:,1])\n",
    "\n",
    "eigenvector1=np.array([eigenmatrix[0,0],eigenmatrix[1,0],eigenmatrix[2,0]])\n",
    "LHS = np.dot(I,eigenvector1)\n",
    "RHS = eigenvector1*eigenvalues[0]\n",
    "print('LHS-RHS',LHS-RHS)"
   ]
  },
  {
   "cell_type": "markdown",
   "metadata": {},
   "source": [
    "# Homework"
   ]
  },
  {
   "cell_type": "code",
   "execution_count": 36,
   "metadata": {},
   "outputs": [
    {
     "name": "stdout",
     "output_type": "stream",
     "text": [
      "x= [-4. -5.  2.]\n",
      "Time  0.00018286705017089844\n",
      "x= [-4. -5.  2.  1.  1.  1.  1.  1.  1.  1.  1.  1.  1.  1.  1.  1.  1.  1.\n",
      "  1.  1.  1.  1.  1.  1.  1.  1.  1.  1.  1.  1.  1.  1.  1.  1.  1.  1.\n",
      "  1.  1.  1.  1.  1.  1.  1.  1.  1.  1.  1.  1.  1.  1.  1.  1.  1.  1.\n",
      "  1.  1.  1.  1.  1.  1.  1.  1.  1.  1.  1.  1.  1.  1.  1.  1.  1.  1.\n",
      "  1.  1.  1.  1.  1.  1.  1.  1.  1.  1.  1.  1.  1.  1.  1.  1.  1.  1.\n",
      "  1.  1.  1.  1.  1.  1.  1.  1.  1.  1.]\n",
      "Time  0.06939053535461426\n",
      "x= [-4 -5  2]\n",
      "Time  0.0002391338348388672\n"
     ]
    }
   ],
   "source": [
    "#Homework: Use the linalg package, LU decompositin, and GaussSeidel method to solve 2y+z=-8, x-2y-3z=0, -x+y+2z=3\n",
    "\n",
    "import numpy as np\n",
    "import time\n",
    "N=100\n",
    "A=np.array([[0.,2.,1.],[1.,-2.,-3.],[-1.,1.,2.]])\n",
    "B=np.array([-8,0,3])\n",
    "\n",
    "start = time.time()\n",
    "# write one line of code to solve Ax=B using linalg package \n",
    "x=np.linalg.solve(A,B)\n",
    "end = time.time()\n",
    "print('x=',x)\n",
    "print('Time ',end-start)\n",
    "\n",
    "x=np.ones(N)\n",
    "start2 = time.time()\n",
    "# write one line of code to solve Ax=B using Gauss-Siedel method \n",
    "GaussSeidel(A, B, x, 3, 1)\n",
    "\n",
    "end2 = time.time()\n",
    "print('x=',x)\n",
    "print('Time ',end2-start2)\n",
    "\n",
    "ipivot=np.zeros(N)\n",
    "start3 = time.time()\n",
    "# write two lines of code to solve Ax=B with LU decomposition\n",
    "de=LUFactor(A,ipivot,3)\n",
    "LUSystem(A,ipivot,B,3)\n",
    "\n",
    "end3 = time.time()\n",
    "print('x=',B)\n",
    "print('Time ',end3-start3)"
   ]
  },
  {
   "cell_type": "code",
   "execution_count": 38,
   "metadata": {},
   "outputs": [
    {
     "name": "stdout",
     "output_type": "stream",
     "text": [
      "[[ 1.    -0.125]\n",
      " [-2.     1.   ]]\n",
      "eigenvalues =  [ 1.5  0.5]\n",
      "eigenvectors =  [ 0.24253563 -0.9701425 ] [ 0.24253563  0.9701425 ]\n"
     ]
    }
   ],
   "source": [
    "# Homework for graduate students:\n",
    "# Solve equation array dx/dt=x-(1/8)y, dy/dt=-2x+y.  Write down the analytical solution \n",
    "# (coefficients can be floating point numbers)\n",
    "# Hint: first use linalg to get the eigenvalue and eigenvector for [[1,-1/3],[-2,1]] array\n",
    "\n",
    "import numpy as np\n",
    "I=np.array([[1.,-1./8.],[-2.,1]])\n",
    "print(I)\n",
    "eigenvalues, eigenmatrix = np.linalg.eig(I)\n",
    "print(\"eigenvalues = \", eigenvalues)\n",
    "print(\"eigenvectors = \", eigenmatrix[:,0], eigenmatrix[:,1])"
   ]
  },
  {
   "cell_type": "markdown",
   "metadata": {},
   "source": [
    "### Solution:\n",
    "General solution is $c_1e^{\\lambda_1}v_1 + c_2e^{\\lambda_2}v_2$, where $\\lambda_1$ and $\\lambda_2$ are the two eigenvalues with their corresponsing eigenvectors $v_1$ and $v_2$, and $c_1$ and $c_2$ are constants that can be obtained by solving initial values etc."
   ]
  },
  {
   "cell_type": "code",
   "execution_count": null,
   "metadata": {
    "collapsed": true
   },
   "outputs": [],
   "source": []
  }
 ],
 "metadata": {
  "kernelspec": {
   "display_name": "Python 3",
   "language": "python",
   "name": "python3"
  },
  "language_info": {
   "codemirror_mode": {
    "name": "ipython",
    "version": 3
   },
   "file_extension": ".py",
   "mimetype": "text/x-python",
   "name": "python",
   "nbconvert_exporter": "python",
   "pygments_lexer": "ipython3",
   "version": "3.6.3"
  }
 },
 "nbformat": 4,
 "nbformat_minor": 2
}
