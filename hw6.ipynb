{
 "cells": [
  {
   "cell_type": "code",
   "execution_count": 2,
   "metadata": {
    "collapsed": true
   },
   "outputs": [],
   "source": [
    "def f(t, y):\n",
    "    f=np.zeros(4)\n",
    "    r=np.sqrt(y[0]*y[0]+y[2]*y[2])\n",
    "    f[0]=y[1]\n",
    "    f[1]=-G*M/r/r/r*y[0]\n",
    "    f[2]=y[3]\n",
    "    f[3]=-G*M/r/r/r*y[2]\n",
    "    return f\n",
    "    \n",
    "def rk4(t, h, y, n):\n",
    "    k1 = np.zeros(n)\n",
    "    k2 = np.zeros(n)\n",
    "    k3 = np.zeros(n)\n",
    "    k4 = np.zeros(n)\n",
    "    k1=h*f(t,y)\n",
    "    k2=h*f(t+0.5*h,y+0.5*k1)\n",
    "    k3=h*f(t+0.5*h,y+0.5*k2)\n",
    "    k4=h*f(t+h,y+k3)\n",
    "    y+=(k1+2.*(k2+k3)+k4)/6.\n",
    "    return y"
   ]
  },
  {
   "cell_type": "code",
   "execution_count": 3,
   "metadata": {},
   "outputs": [
    {
     "name": "stdout",
     "output_type": "stream",
     "text": [
      "iter  0  shoot point, target -200731714180.0 -38440000000.0\n",
      "iter  1  shoot point, target -2342075020.96 -38440000000.0\n",
      "iter  2  shoot point, target -12255315797.1 -38440000000.0\n",
      "iter  3  shoot point, target -142386619942.0 -38440000000.0\n",
      "iter  4  shoot point, target -70803300851.3 -38440000000.0\n",
      "iter  5  shoot point, target -22308943842.6 -38440000000.0\n",
      "iter  6  shoot point, target -37177607279.1 -38440000000.0\n",
      "iter  7  shoot point, target -54251354967.9 -38440000000.0\n",
      "iter  8  shoot point, target -44518089954.4 -38440000000.0\n",
      "iter  9  shoot point, target -40521870132.7 -38440000000.0\n",
      "iter  10  shoot point, target -38778639170.1 -38440000000.0\n",
      "iter  11  shoot point, target -37961458538.3 -38440000000.0\n",
      "iter  12  shoot point, target -38365751510.3 -38440000000.0\n",
      "iter  13  shoot point, target -38571103760.5 -38440000000.0\n",
      "iter  14  shoot point, target -38468156971.7 -38440000000.0\n",
      "iter  15  shoot point, target -38416886849.5 -38440000000.0\n",
      "iter  16  shoot point, target -38442505028.8 -38440000000.0\n",
      "iter  17  shoot point, target -38429691411.9 -38440000000.0\n",
      "iter  18  shoot point, target -38436097138.1 -38440000000.0\n",
      "iter  19  shoot point, target -38439300812.8 -38440000000.0\n",
      "iter  20  shoot point, target -38440902582.0 -38440000000.0\n",
      "iter  21  shoot point, target -38440101657.4 -38440000000.0\n",
      "iter  22  shoot point, target -38439701225.1 -38440000000.0\n",
      "iter  23  shoot point, target -38439901438.7 -38440000000.0\n",
      "iter  24  shoot point, target -38440001547.4 -38440000000.0\n",
      "iter  25  shoot point, target -38439951492.9 -38440000000.0\n",
      "iter  26  shoot point, target -38439976520.1 -38440000000.0\n",
      "iter  27  shoot point, target -38439989033.8 -38440000000.0\n",
      "iter  28  shoot point, target -38439995290.6 -38440000000.0\n",
      "iter  29  shoot point, target -38439998419.0 -38440000000.0\n",
      "iter  30  shoot point, target -38439999983.2 -38440000000.0\n",
      "iter  31  shoot point, target -38440000765.3 -38440000000.0\n",
      "iter  32  shoot point, target -38440000374.2 -38440000000.0\n",
      "iter  33  shoot point, target -38440000178.7 -38440000000.0\n",
      "iter  34  shoot point, target -38440000081.0 -38440000000.0\n",
      "iter  35  shoot point, target -38440000032.1 -38440000000.0\n",
      "iter  36  shoot point, target -38440000007.6 -38440000000.0\n",
      "iter  37  shoot point, target -38439999995.4 -38440000000.0\n",
      "iter  38  shoot point, target -38440000001.5 -38440000000.0\n",
      "iter  39  shoot point, target -38439999998.5 -38440000000.0\n",
      "vy, time 1109625.9788217992 429660.0\n"
     ]
    },
    {
     "data": {
      "image/png": "[encoded data removed]",
      "text/plain": [
       "<matplotlib.figure.Figure at 0x7f3d37d71fd0>"
      ]
     },
     "metadata": {},
     "output_type": "display_data"
    }
   ],
   "source": [
    "## Using Bisection method to get the correct launch speed\n",
    "\n",
    "import numpy as np\n",
    "import matplotlib.pyplot as plt\n",
    "\n",
    "G=6.67428e-8\n",
    "M=5.974e27\n",
    "day=24.*3600.\n",
    "tend=7.*day\n",
    "h=60.\n",
    "y=[6.371e8,0.,0.,1.12e6]\n",
    "targetx=-3.844e10\n",
    "t=0\n",
    "\n",
    "xp=[]\n",
    "yp=[]\n",
    "ta=[]\n",
    "vymin=10.**5.9\n",
    "vymax=10.**6.2\n",
    "maxiter=100\n",
    "for iter in range(maxiter):\n",
    "    xp=[]\n",
    "    yp=[]\n",
    "    ta=[]\n",
    "    vy=(vymin+vymax)/2.\n",
    "    y=[6.371e8,0.,0.,vy]\n",
    "    t=0\n",
    "    while(t<tend):\n",
    "        y = rk4(t,h,y,4)\n",
    "        xp=np.append(xp,y[0])\n",
    "        yp=np.append(yp,y[2])\n",
    "        ta=np.append(ta,t)\n",
    "        if(y[2]<0):\n",
    "            y[0]=y[0]-y[1]*y[2]/y[3]\n",
    "            break\n",
    "        t = t+h\n",
    "    if(np.abs(y[0]-targetx)<1.):\n",
    "        break\n",
    "    if y[0]<targetx:\n",
    "        #finish this line for bisection method\n",
    "        vymax=vy\n",
    "    else:\n",
    "        #finish this line for bisection method\n",
    "        vymin=vy\n",
    "    print(\"iter \",iter, \" shoot point, target\",y[0],targetx)\n",
    " \n",
    "print(\"vy, time\",vy,t)\n",
    "plt.show()\n",
    "plt.plot(xp,yp)\n",
    "plt.show()"
   ]
  },
  {
   "cell_type": "code",
   "execution_count": 4,
   "metadata": {},
   "outputs": [
    {
     "name": "stdout",
     "output_type": "stream",
     "text": [
      "iter  0  shoot point, target -70524.0803271 1\n",
      "vy, time 1.5 1.0000999999999063\n"
     ]
    },
    {
     "data": {
      "image/png": "[encoded data removed]",
      "text/plain": [
       "<matplotlib.figure.Figure at 0x7f612c5e8748>"
      ]
     },
     "metadata": {},
     "output_type": "display_data"
    }
   ],
   "source": [
    "# Legendre\tpolynomials\twith\tn=5\n",
    "\n",
    "import numpy as np\n",
    "import matplotlib.pyplot as plt\n",
    "\n",
    "def f(t, y):\n",
    "    f=np.zeros(2)\n",
    "    f[0]=y[1]\n",
    "    f[1]=(2.*t*y[1]-30.*y[0])/(1-t**2)\n",
    "    return f\n",
    "\n",
    "h=0.0001\n",
    "tend=1.\n",
    "y=[0.,1.]\n",
    "targety=1\n",
    "t=0\n",
    "\n",
    "yp=[]\n",
    "ta=[]\n",
    "vymin=1.\n",
    "vymax=2.\n",
    "maxiter=100\n",
    "for iter in range(maxiter):\n",
    "    yp=[]\n",
    "    ta=[]\n",
    "    vy=(vymin+vymax)/2.\n",
    "    y=[0.,vy]\n",
    "    t=0\n",
    "    while(t<tend):\n",
    "        y = rk4(t,h,y,2)\n",
    "        yp=np.append(yp,y[0])\n",
    "        ta=np.append(ta,t)\n",
    "        t = t+h\n",
    "    if(np.abs(y[0]-targety)<0.1):\n",
    "        break\n",
    "    if y[0]<targety:\n",
    "        #finish this line for bisection method\n",
    "        vymax=vy\n",
    "    else:\n",
    "        #finish this line for bisection method\n",
    "        vymin=vy\n",
    "    print(\"iter \",iter, \" shoot point, target\",y[0],targety)\n",
    " \n",
    "print(\"vy, time\",vy,t)\n",
    "plt.plot(ta,yp)\n",
    "plt.show()"
   ]
  },
  {
   "cell_type": "code",
   "execution_count": 5,
   "metadata": {},
   "outputs": [
    {
     "name": "stdout",
     "output_type": "stream",
     "text": [
      "[-70524.0803271   35273.12494394]\n"
     ]
    }
   ],
   "source": [
    "print(y)"
   ]
  },
  {
   "cell_type": "code",
   "execution_count": 14,
   "metadata": {},
   "outputs": [
    {
     "name": "stdout",
     "output_type": "stream",
     "text": [
      "iter  0  shoot point, target -70524.0803271 1\n"
     ]
    }
   ],
   "source": [
    "# Legendre\tpolynomials\twith\tn=5\n",
    "\n",
    "import numpy as np\n",
    "import matplotlib.pyplot as plt\n",
    "\n",
    "def f(t, y):\n",
    "    f=np.zeros(2)\n",
    "    f[0]=y[1]\n",
    "    f[1]=(2.*t*y[1]-30.*y[0])/(1-t**2)\n",
    "    return f\n",
    "\n",
    "h=0.0001\n",
    "tend=1.\n",
    "y=[0.,1.]\n",
    "targety=1\n",
    "t=0\n",
    "\n",
    "yp=[]\n",
    "ta=[]\n",
    "vymin=1.\n",
    "vymax=2.\n",
    "maxiter=1\n",
    "for iter in range(maxiter):\n",
    "    yp=[]\n",
    "    ta=[]\n",
    "    vy=(vymin+vymax)/2.\n",
    "    y=[0.,vy]\n",
    "    t=0\n",
    "    while(t<tend):\n",
    "        y = rk4(t,h,y,2)\n",
    "        yp=np.append(yp,y[0])\n",
    "        ta=np.append(ta,t)\n",
    "        t = t+h\n",
    "    if(np.abs(y[0]-targety)<0.1):\n",
    "        break\n",
    "    if y[0]<targety:\n",
    "        #finish this line for bisection method\n",
    "        vymin=vy\n",
    "    else:\n",
    "        #finish this line for bisection method\n",
    "        vymax=vy\n",
    "    print(\"iter \",iter, \" shoot point, target\",y[0],targety)"
   ]
  },
  {
   "cell_type": "code",
   "execution_count": 15,
   "metadata": {},
   "outputs": [
    {
     "name": "stdout",
     "output_type": "stream",
     "text": [
      "[-70524.0803271   35273.12494394]\n"
     ]
    }
   ],
   "source": [
    "print(y)"
   ]
  },
  {
   "cell_type": "code",
   "execution_count": 16,
   "metadata": {},
   "outputs": [
    {
     "name": "stdout",
     "output_type": "stream",
     "text": [
      "[  1.49999993e-04   2.99999944e-04   4.49999811e-04 ...,   7.98800420e-01\n",
      "   8.00000000e-01  -7.05240803e+04]\n"
     ]
    }
   ],
   "source": [
    "print(yp)"
   ]
  },
  {
   "cell_type": "code",
   "execution_count": 17,
   "metadata": {},
   "outputs": [
    {
     "name": "stdout",
     "output_type": "stream",
     "text": [
      "[  0.00000000e+00   1.00000000e-04   2.00000000e-04 ...,   9.99800000e-01\n",
      "   9.99900000e-01   1.00000000e+00]\n"
     ]
    }
   ],
   "source": [
    "print(ta)"
   ]
  },
  {
   "cell_type": "code",
   "execution_count": null,
   "metadata": {
    "collapsed": true
   },
   "outputs": [],
   "source": []
  }
 ],
 "metadata": {
  "kernelspec": {
   "display_name": "Python 3",
   "language": "python",
   "name": "python3"
  },
  "language_info": {
   "codemirror_mode": {
    "name": "ipython",
    "version": 3
   },
   "file_extension": ".py",
   "mimetype": "text/x-python",
   "name": "python",
   "nbconvert_exporter": "python",
   "pygments_lexer": "ipython3",
   "version": "3.6.3"
  }
 },
 "nbformat": 4,
 "nbformat_minor": 2
}
