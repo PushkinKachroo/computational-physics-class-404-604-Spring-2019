{
 "cells": [
  {
   "cell_type": "code",
   "execution_count": 19,
   "metadata": {},
   "outputs": [
    {
     "name": "stdout",
     "output_type": "stream",
     "text": [
      "F(x)= [-10 -56]\n",
      "dF(x)= [[1 0]\n",
      " [3 1]]\n"
     ]
    }
   ],
   "source": [
    "import numpy as np\n",
    "def F(x, f): \n",
    "    f[0]=x[0]*x[0]+x[0]*x[1]-10.\n",
    "    f[1]=x[1]+3.*x[0]*x[1]*x[1]-57.\n",
    "    return f\n",
    "\n",
    "def dF(x):\n",
    "    df[0,0] = 2.*x[0]+x[1]\n",
    "    df[0,1] = x[0]\n",
    "    df[1,0] = 3.*x[1]**2\n",
    "    df[1,1] = 1.+6.*x[0]*x[1]\n",
    "    return df\n",
    "\n",
    "x = np.array([0,1])\n",
    "f = np.array([0,0])\n",
    "df= np.array([[0,0],[0,0]])\n",
    "print(\"F(x)=\" , F(x))\n",
    "print(\"dF(x)=\" , dF(x))"
   ]
  },
  {
   "cell_type": "code",
   "execution_count": 23,
   "metadata": {},
   "outputs": [
    {
     "name": "stdout",
     "output_type": "stream",
     "text": [
      "Number of iterations =  15 \n",
      " Final Solution:\n",
      "x[ 0 ] =   2.0\n",
      "x[ 1 ] =   3.00005\n"
     ]
    }
   ],
   "source": [
    "from numpy import *\n",
    "from numpy.linalg import solve\n",
    "\n",
    "n = 2\n",
    "eps = 1e-3\n",
    "deriv = zeros( (n, n), float)\n",
    "f = zeros( (n), float)\n",
    "x = array([0.5, 0.5])\n",
    "\n",
    "def F(x, f): \n",
    "    f[0]=x[0]*x[0]+x[0]*x[1]-10.\n",
    "    f[1]=x[1]+3.*x[0]*x[1]*x[1]-57.\n",
    "    \n",
    "def dFi_dXj(x, deriv, n):                           # Derivatives\n",
    "    h = 1e-4                                             \n",
    "    for j in range(0, n):\n",
    "         temp = x[j]\n",
    "         x[j] = x[j] +  h/2.\n",
    "         F(x, f)                                                 \n",
    "         for i in range(0, n):  deriv[i, j] = f[i] \n",
    "         x[j] = temp\n",
    "    for j in range(0, n):\n",
    "         temp = x[j]\n",
    "         x[j] = x[j] - h/2.\n",
    "         F(x, f)\n",
    "         for i in range(0, n): deriv[i, j] = (deriv[i, j] - f[i])/h\n",
    "         x[j] = temp\n",
    "\n",
    "for it in range(1, 100):                            \n",
    "      F(x, f)                              \n",
    "      dFi_dXj(x, deriv, n)   \n",
    "      B = array([[-f[0]], [-f[1]]])      \n",
    "      sol = solve(deriv, B)\n",
    "      dx = sol#take(sol, (0, ), 1)               # First column of sol\n",
    "      for i in range(0, n):\n",
    "        x[i]  = x[i]  +  dx[i]\n",
    "      errX = errF = errXi = 0.0\n",
    "      endi=0\n",
    "      for i in range(0, n):\n",
    "        if ( x[i] !=  0.): errXi = abs(dx[i]/x[i])\n",
    "        else:  errXi = abs(dx[i])\n",
    "        if ( errXi > errX): errX = errXi                            \n",
    "        if ( abs(f[i]) > errF ):  errF = abs(f[i])        \n",
    "        if ( (errX <=  eps) and (errF <=  eps) ): endi=1\n",
    "      if(endi==1): break  \n",
    "      \n",
    "print('Number of iterations = ', it, \"\\n Final Solution:\")\n",
    "for i in range(0, n):\n",
    "        print('x[', i, '] =  ', x[i])        \n"
   ]
  },
  {
   "cell_type": "code",
   "execution_count": 24,
   "metadata": {},
   "outputs": [
    {
     "name": "stdout",
     "output_type": "stream",
     "text": [
      "[ 0.  0.  0.  0.]\n"
     ]
    }
   ],
   "source": [
    "print(np.zeros(4))"
   ]
  },
  {
   "cell_type": "code",
   "execution_count": 25,
   "metadata": {},
   "outputs": [
    {
     "name": "stdout",
     "output_type": "stream",
     "text": [
      "[ 232.  218.  123.  213.]\n"
     ]
    }
   ],
   "source": [
    "import numpy as np\n",
    "a=np.array([[9.,13.,5.,2.],[1.,11.,7.,6.],[3.,7.,4.,1.],[6.,1.,7.,10.]])\n",
    "b=np.array([7.,8.,9.,10.])\n",
    "c=np.zeros(4)\n",
    "\n",
    "for i in range(4):\n",
    "    for j in range(4):\n",
    "        # please finish this line\n",
    "        c[i]=c[i]+a[i,j]*b[j]\n",
    "        \n",
    "print(c)"
   ]
  },
  {
   "cell_type": "code",
   "execution_count": 26,
   "metadata": {
    "collapsed": true
   },
   "outputs": [],
   "source": [
    "import numpy as np\n",
    "#============================================================================\n",
    "def LUFactor(a, ipivot, n):\n",
    "# Copy right, code from Titus textbook. \n",
    "#----------------------------------------------------------------------------\n",
    "#  Performs LU factorization of (n x n) matrix a (diag(L) = 1). On exit,\n",
    "#  replaces upper triangle and diagonal with U, and lower triangle, with L.\n",
    "#  Uses partial pivoting on columns.\n",
    "#  a      - coefficient matrix (n x n); LU decomposition on exit\n",
    "#  ipivot - array of pivot row indexes (output)\n",
    "#  det    - determinant of coefficient matrix (output).\n",
    "#----------------------------------------------------------------------------\n",
    "   det = 1e0\n",
    "   for j in range(n):                                 # loop over columns\n",
    "      for i in range(j):                             # elements of matrix U\n",
    "         sum = a[i][j]\n",
    "         for k in range(i): sum -= a[i][k]*a[k][j]\n",
    "         a[i][j] = sum\n",
    "\n",
    "      amax = 0e0\n",
    "      for i in range(j,n):                           # elements of matrix L\n",
    "         sum = a[i][j]                                 # undivided by pivot\n",
    "         for k in range(j): sum -= a[i][k]*a[k][j]\n",
    "         a[i][j] = sum\n",
    "                                                            # determine pivot\n",
    "         if (amax < np.fabs(a[i][j])): amax = np.fabs(a[i][j]); imax = i\n",
    "\n",
    "      if (amax == 0e0): print(\"LUFactor: singular matrix !\"); return 0e0\n",
    "\n",
    "      ipivot[j] = imax                                # store pivot row index\n",
    "                                                # interchange rows imax and j\n",
    "      if (imax != j):                           # to put pivot on diagonal\n",
    "         det = -det\n",
    "         for k in range(n):\n",
    "            t = a[imax][k]; a[imax][k] = a[j][k]; a[j][k] = t\n",
    "\n",
    "      det *= a[j][j]                        # multiply determinant with pivot\n",
    "\n",
    "      t = 1e0/a[j][j]                         # divide elements of L by pivot\n",
    "      for i in range(j+1,n): a[i][j] *= t\n",
    "\n",
    "   return det\n",
    "\n",
    "#============================================================================\n",
    "def LUSystem(a, ipivot, b, n):\n",
    "# Copy right, code from Titus textbook. \n",
    "#----------------------------------------------------------------------------\n",
    "#  Solves linear system a x = b of order n by LU factorization.\n",
    "#  a      - LU decomposition of coefficient matrix (returned by LUFactor)\n",
    "#  ipivot - array of pivot row indexes (input)\n",
    "#  b      - vector of constant terms (input); solution x (on exit)\n",
    "#----------------------------------------------------------------------------\n",
    "   for i in range(n):                                     # solves Ly = b\n",
    "      sum = b[int(ipivot[i])]\n",
    "      b[int(ipivot[i])] = b[i]\n",
    "      for j in range(i): sum -= a[i][j]*b[j]\n",
    "      b[i] = sum\n",
    "\n",
    "   for i in range(n-1,-1,-1):                                    # solves Ux = y\n",
    "      sum = b[i]\n",
    "      for j in range(i+1,n): sum -= a[i][j]*b[j]\n",
    "      b[i] = sum/a[i][i]"
   ]
  },
  {
   "cell_type": "code",
   "execution_count": 27,
   "metadata": {},
   "outputs": [
    {
     "name": "stdout",
     "output_type": "stream",
     "text": [
      "[ 0.1729798  -0.87689394  4.13194444 -1.9084596 ]\n",
      "[  0.00000000e+00   0.00000000e+00   0.00000000e+00  -7.10542736e-15]\n"
     ]
    }
   ],
   "source": [
    "import numpy as np\n",
    "a=np.array([[9.,13.,5.,2.],[1.,11.,7.,6.],[3.,7.,4.,1.],[6.,1.,7.,10.]])\n",
    "b=np.array([7.,8.,9.,10.])\n",
    "aa=np.copy(a)    #deep copy of an array\n",
    "bb=np.copy(b)    #deep copy of an array\n",
    "ipivot=np.zeros(4)\n",
    "de=LUFactor(a,ipivot,4)\n",
    "LUSystem(a,ipivot,b,4)\n",
    "print(b)\n",
    "\n",
    "print(np.dot(aa,b)-bb)"
   ]
  },
  {
   "cell_type": "code",
   "execution_count": 28,
   "metadata": {
    "collapsed": true
   },
   "outputs": [],
   "source": [
    "#============================================================================\n",
    "def GaussSeidel(a, b, x, n, init):\n",
    "# Copy right, code from Titus textbook. \n",
    "#----------------------------------------------------------------------------\n",
    "#  Solves linear system a x = b by the Gauss-Seidel method.\n",
    "#  Convergence is ensure by left-multiplying the system with a^T.\n",
    "#  a    - coefficient matrix (n x n)\n",
    "#  b    - vector of constant terms\n",
    "#  x    - initial approximation of solution (input); solution (output)\n",
    "#  n    - order of system\n",
    "#  err  - maximum relative error of the solution components\n",
    "#  init - initialization option: 0 - refines initial approximation \n",
    "#                                1 - initializes solution\n",
    "#----------------------------------------------------------------------------\n",
    "   eps = 1e-15                                 # relative precision criterion\n",
    "   itmax = 10000                                    # max no. of iterations\n",
    "\n",
    "   s = [[0]*(n) for i in range(n)]           # matrices of reduced system\n",
    "   t = [0]*(n)\n",
    "\n",
    "   for i in range(n):                         # matrices of normal system\n",
    "      for j in range(i+1):                      # by multiplication with aT\n",
    "         s[i][j] = 0e0                            # store result in s and t\n",
    "         for k in range(n): s[i][j] += a[k][i]*a[k][j]\n",
    "         s[j][i] = s[i][j]\n",
    "\n",
    "      t[i] = 0e0\n",
    "      for j in range(n): t[i] += a[j][i]*b[j]\n",
    "\n",
    "   for i in range(n):                # matrices s and t of reduced system\n",
    "      f = -1e0/s[i][i]; t[i] /= s[i][i]\n",
    "      for j in range(n): s[i][j] *= f\n",
    "\n",
    "   if (init):\n",
    "      for i in range(n): x[i] = t[i]                # initialize solution\n",
    "\n",
    "   for k in range(itmax):                            # loop of iterations\n",
    "      err = 0e0\n",
    "      for i in range(n):\n",
    "         delta = t[i]                                            # correction\n",
    "         for j in range(n): delta += s[i][j]*x[j]\n",
    "         x[i] += delta                        # new approximation to solution\n",
    "         if (x[i]): delta /= x[i]                            # relative error\n",
    "         if (np.fabs(delta) > err): err = np.fabs(delta)            # maximum error\n",
    "       #  print('delta,err',delta,err)\n",
    "            \n",
    "      if (err <= eps): break                              # check convergence\n",
    "\n",
    "   if (k > itmax-2): print(\"GaussSeidel: max. no. of iterations exceeded !\")\n",
    "    \n",
    "   return err"
   ]
  },
  {
   "cell_type": "code",
   "execution_count": 29,
   "metadata": {},
   "outputs": [
    {
     "name": "stdout",
     "output_type": "stream",
     "text": [
      "x= [ 0.1729798  -0.87689394  4.13194444 -1.9084596 ]\n",
      "[  9.23705556e-14   6.75015599e-14  -2.27373675e-13  -3.19744231e-14]\n"
     ]
    }
   ],
   "source": [
    "import numpy as np\n",
    "a=np.array([[9.,13.,5.,2.],[1.,11.,7.,6.],[3.,7.,4.,1.],[6.,1.,7.,10.]])\n",
    "b=np.array([7.,8.,9.,10.])\n",
    "x=np.array([1.,1.,1.,1.])\n",
    "\n",
    "GaussSeidel(a, b, x, 4, 1)\n",
    "print('x=',x)\n",
    "print(np.dot(a,x)-b)"
   ]
  },
  {
   "cell_type": "code",
   "execution_count": 34,
   "metadata": {},
   "outputs": [
    {
     "name": "stdout",
     "output_type": "stream",
     "text": [
      "x= [ 1.  0.  0.  0.  0.  0.  0.  0. -0. -0. -0.  0.  0.  0. -0.  0. -0. -0.\n",
      "  0.  0.  0. -0.  0.  0.  0. -0. -0. -0.  0.  0. -0.  0. -0.  0.  0.  0.\n",
      " -0. -0. -0.  0. -0. -0. -0.  0. -0. -0. -0.  0.  0. -0.  0.  0.  0.  0.\n",
      " -0.  0. -0.  0.  0.  0. -0.  0. -0. -0.  0.  0.  0. -0. -0.  0. -0. -0.\n",
      "  0.  0. -0. -0.  0.  0. -0. -0.  0. -0. -0. -0.  0. -0. -0.  0.  0.  0.\n",
      " -0.  0.  0. -0. -0.  0. -0. -0. -0. -0.]\n",
      "Time  0.0004706382751464844\n",
      "GaussSeidel: max. no. of iterations exceeded !\n",
      "x= [ 1.0297499  -0.04694805 -0.26420505  0.32845104  1.          1.          1.\n",
      "  1.          1.          1.          1.          1.          1.          1.\n",
      "  1.          1.          1.          1.          1.          1.          1.\n",
      "  1.          1.          1.          1.          1.          1.          1.\n",
      "  1.          1.          1.          1.          1.          1.          1.\n",
      "  1.          1.          1.          1.          1.          1.          1.\n",
      "  1.          1.          1.          1.          1.          1.          1.\n",
      "  1.          1.          1.          1.          1.          1.          1.\n",
      "  1.          1.          1.          1.          1.          1.          1.\n",
      "  1.          1.          1.          1.          1.          1.          1.\n",
      "  1.          1.          1.          1.          1.          1.          1.\n",
      "  1.          1.          1.          1.          1.          1.          1.\n",
      "  1.          1.          1.          1.          1.          1.          1.\n",
      "  1.          1.          1.          1.          1.          1.          1.\n",
      "  1.          1.        ]\n",
      "Time  0.3800652027130127\n",
      "x= [ 1.          0.         -0.          0.          0.2         0.16666667\n",
      "  0.14285714  0.125       0.11111111  0.1         0.09090909  0.08333333\n",
      "  0.07692308  0.07142857  0.06666667  0.0625      0.05882353  0.05555556\n",
      "  0.05263158  0.05        0.04761905  0.04545455  0.04347826  0.04166667\n",
      "  0.04        0.03846154  0.03703704  0.03571429  0.03448276  0.03333333\n",
      "  0.03225806  0.03125     0.03030303  0.02941176  0.02857143  0.02777778\n",
      "  0.02702703  0.02631579  0.02564103  0.025       0.02439024  0.02380952\n",
      "  0.02325581  0.02272727  0.02222222  0.02173913  0.0212766   0.02083333\n",
      "  0.02040816  0.02        0.01960784  0.01923077  0.01886792  0.01851852\n",
      "  0.01818182  0.01785714  0.01754386  0.01724138  0.01694915  0.01666667\n",
      "  0.01639344  0.01612903  0.01587302  0.015625    0.01538462  0.01515152\n",
      "  0.01492537  0.01470588  0.01449275  0.01428571  0.01408451  0.01388889\n",
      "  0.01369863  0.01351351  0.01333333  0.01315789  0.01298701  0.01282051\n",
      "  0.01265823  0.0125      0.01234568  0.01219512  0.01204819  0.01190476\n",
      "  0.01176471  0.01162791  0.01149425  0.01136364  0.01123596  0.01111111\n",
      "  0.01098901  0.01086957  0.01075269  0.0106383   0.01052632  0.01041667\n",
      "  0.01030928  0.01020408  0.01010101  0.01      ]\n",
      "Time  0.00024318695068359375\n"
     ]
    }
   ],
   "source": [
    "import numpy as np\n",
    "import time\n",
    "N=100\n",
    "A=np.zeros((N,N),float)\n",
    "B=np.zeros(N,float)\n",
    "for i in range(N):\n",
    "    for j in range(N):\n",
    "        A[i,j]=1./(i+j+1.)\n",
    "        \n",
    "for i in range(N):\n",
    "    B[i]=1./(i+1)\n",
    "\n",
    "start = time.time()\n",
    "# write one line of code to solve Ax=B using linalg package \n",
    "x=np.linalg.solve(A,B)\n",
    "end = time.time()\n",
    "print('x=',x)\n",
    "print('Time ',end-start)\n",
    "\n",
    "x=np.ones(N)\n",
    "start2 = time.time()\n",
    "# write one line of code to solve Ax=B using Gauss-Siedel method \n",
    "GaussSeidel(A, B, x, 4, 1)\n",
    "\n",
    "end2 = time.time()\n",
    "print('x=',x)\n",
    "print('Time ',end2-start2)\n",
    "\n",
    "ipivot=np.zeros(N)\n",
    "start3 = time.time()\n",
    "# write two lines of code to solve Ax=B with LU decomposition\n",
    "de=LUFactor(A,ipivot,4)\n",
    "LUSystem(A,ipivot,B,4)\n",
    "\n",
    "end3 = time.time()\n",
    "print('x=',B)\n",
    "print('Time ',end3-start3)"
   ]
  },
  {
   "cell_type": "code",
   "execution_count": 36,
   "metadata": {},
   "outputs": [
    {
     "name": "stdout",
     "output_type": "stream",
     "text": [
      "[[ 1 -3  3]\n",
      " [ 3 -5  3]\n",
      " [ 6 -6  4]]\n",
      "Eigenvalues [ 4. +0.00000000e+00j -2. +1.10465796e-15j -2. -1.10465796e-15j] \n",
      " Eigenmatrix [[-0.40824829+0.j          0.24400118-0.40702229j  0.24400118+0.40702229j]\n",
      " [-0.40824829+0.j         -0.41621909-0.40702229j -0.41621909+0.40702229j]\n",
      " [-0.81649658+0.j         -0.66022027+0.j         -0.66022027-0.j        ]]\n",
      "Eigenvector [-0.40824829+0.j -0.40824829+0.j -0.81649658+0.j] [ 0.24400118-0.40702229j -0.41621909-0.40702229j -0.66022027+0.j        ]\n",
      "LHS-RHS [  4.44089210e-16+0.j   2.22044605e-16+0.j   8.88178420e-16+0.j]\n"
     ]
    }
   ],
   "source": [
    "# Find the eigenvalue and eigenvector for ([1,-3,3],[3,-5,3],[6,-6,4])\n",
    "\n",
    "# Now double check that the derived eigenvalue and eigenvector can satisfy Ax=\\lamba x\n",
    "\n",
    "import numpy as np\n",
    "I=np.array([[1,-3,3],[3,-5,3],[6,-6,4]])\n",
    "print(I)\n",
    "eigenvalues, eigenmatrix = np.linalg.eig(I)\n",
    "print('Eigenvalues', eigenvalues, '\\n Eigenmatrix', eigenmatrix)\n",
    "print('Eigenvector',eigenmatrix[:,0],eigenmatrix[:,1])\n",
    "\n",
    "eigenvector1=np.array([eigenmatrix[0,0],eigenmatrix[1,0],eigenmatrix[2,0]])\n",
    "LHS = np.dot(I,eigenvector1)\n",
    "RHS = eigenvector1*eigenvalues[0]\n",
    "print('LHS-RHS',LHS-RHS)"
   ]
  },
  {
   "cell_type": "code",
   "execution_count": null,
   "metadata": {
    "collapsed": true
   },
   "outputs": [],
   "source": []
  }
 ],
 "metadata": {
  "kernelspec": {
   "display_name": "Python 3",
   "language": "python",
   "name": "python3"
  },
  "language_info": {
   "codemirror_mode": {
    "name": "ipython",
    "version": 3
   },
   "file_extension": ".py",
   "mimetype": "text/x-python",
   "name": "python",
   "nbconvert_exporter": "python",
   "pygments_lexer": "ipython3",
   "version": "3.6.3"
  }
 },
 "nbformat": 4,
 "nbformat_minor": 2
}
